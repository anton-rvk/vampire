{
 "cells": [
  {
   "cell_type": "code",
   "execution_count": 1,
   "id": "05d09945",
   "metadata": {},
   "outputs": [],
   "source": [
    "import pandas as pd"
   ]
  },
  {
   "cell_type": "code",
   "execution_count": 2,
   "id": "c07b1ed4",
   "metadata": {},
   "outputs": [],
   "source": [
    "def preprocess_clan(path):\n",
    "    clan = pd.read_csv(path)\n",
    "    clan.drop(clan.columns[0], axis = 'columns', inplace= True) #drop an extra index column\n",
    "    return clan"
   ]
  },
  {
   "cell_type": "code",
   "execution_count": 3,
   "id": "09514776",
   "metadata": {},
   "outputs": [],
   "source": [
    "brujah = preprocess_clan(\"/home/anton/Documents/projects/vtm_exploration/vampire/data/Brujah.csv\")"
   ]
  },
  {
   "cell_type": "code",
   "execution_count": 4,
   "id": "9bcb2a82",
   "metadata": {},
   "outputs": [],
   "source": [
    "def generate_edges(clan):\n",
    "    edges = []\n",
    "    for vamp in clan.iterrows():\n",
    "        #print(vamp[1][\"Sire\"])\n",
    "\n",
    "        if vamp[1][\"Sire\"] in list(clan[\"Name\"]):\n",
    "            edges.append((vamp[1][\"Sire\"], vamp[1][\"Name\"]))\n",
    "    \n",
    "    return edges"
   ]
  },
  {
   "cell_type": "code",
   "execution_count": 5,
   "id": "e5ca53fc",
   "metadata": {},
   "outputs": [],
   "source": [
    "brujah_edges = generate_edges(clan=brujah)"
   ]
  },
  {
   "cell_type": "code",
   "execution_count": 6,
   "id": "e889584f",
   "metadata": {},
   "outputs": [],
   "source": [
    "import re\n",
    "import numpy as np\n",
    "\n",
    "def select_generation(gen_str):\n",
    "\n",
    "    gen_str = str(gen_str)\n",
    "\n",
    "    gen_str = gen_str.replace(\"V5\", \"\") #deal with the edge cases where V5 system is mentioned\n",
    "    gen_str = re.sub(r'\\[\\d+\\]', \"\", gen_str) #deal with source reference (of the type [4])\n",
    "    gen = re.findall(r'\\d+', gen_str)\n",
    "\n",
    "    gen = [int(x) for x in gen if int(x) <= 16 or int(x) > 0]\n",
    "\n",
    "    if not gen: \n",
    "        return np.nan\n",
    "\n",
    "    if \"diab\" in gen_str: #check for diablerie \n",
    "        gen = min(gen)\n",
    "    else: \n",
    "        gen = max(gen)\n",
    "\n",
    "    return int(gen)\n",
    "\n",
    "brujah[\"Generation\"] = brujah[\"Generation\"].apply(lambda x: select_generation(str(x)))"
   ]
  },
  {
   "cell_type": "markdown",
   "id": "eb356fcd",
   "metadata": {},
   "source": [
    "### Generate Graphs"
   ]
  },
  {
   "cell_type": "code",
   "execution_count": 11,
   "id": "3cfb283d",
   "metadata": {},
   "outputs": [],
   "source": [
    "red_gradient = {\n",
    "    1: \"#8b0000\",    # Darkest Red\n",
    "    2: \"#920c0c\",\n",
    "    3: \"#991919\",\n",
    "    4: \"#a02626\",\n",
    "    5: \"#a83333\",\n",
    "    6: \"#af3f3f\",\n",
    "    7: \"#b64c4c\",\n",
    "    8: \"#bd5959\",\n",
    "    9: \"#c46666\",\n",
    "    10: \"#cc7272\",\n",
    "    11: \"#d37f7f\",\n",
    "    12: \"#da8c8c\",\n",
    "    13: \"#e29999\",\n",
    "    14: \"#e9a5a5\",\n",
    "    15: \"#f0b2b2\",\n",
    "    16: \"#f7bfbf\",\n",
    "    17: \"#ffcccc\"     # Lightest Red\n",
    "}\n",
    "\n",
    "background_color = \"#222222\""
   ]
  },
  {
   "cell_type": "code",
   "execution_count": null,
   "id": "28f0428f",
   "metadata": {},
   "outputs": [
    {
     "ename": "AttributeError",
     "evalue": "'dict' object has no attribute 'physics'",
     "output_type": "error",
     "traceback": [
      "\u001b[31m---------------------------------------------------------------------------\u001b[39m",
      "\u001b[31mAttributeError\u001b[39m                            Traceback (most recent call last)",
      "\u001b[36mCell\u001b[39m\u001b[36m \u001b[39m\u001b[32mIn[96]\u001b[39m\u001b[32m, line 49\u001b[39m\n\u001b[32m     35\u001b[39m     net.add_edge(edge[\u001b[32m0\u001b[39m], edge[\u001b[32m1\u001b[39m])\n\u001b[32m     37\u001b[39m net.set_options(\u001b[33m\"\"\"\u001b[39m\u001b[33moptions= \u001b[39m\u001b[33m{\u001b[39m\n\u001b[32m     38\u001b[39m \u001b[33m        \u001b[39m\u001b[33m\"\u001b[39m\u001b[33mlayout\u001b[39m\u001b[33m\"\u001b[39m\u001b[33m: \u001b[39m\u001b[33m{\u001b[39m\n\u001b[32m     39\u001b[39m \u001b[33m            \u001b[39m\u001b[33m\"\u001b[39m\u001b[33mhierarchical\u001b[39m\u001b[33m\"\u001b[39m\u001b[33m: \u001b[39m\u001b[33m{\u001b[39m\n\u001b[32m   (...)\u001b[39m\u001b[32m     46\u001b[39m \u001b[33m    }\u001b[39m\n\u001b[32m     47\u001b[39m \u001b[33m        \u001b[39m\u001b[33m\"\"\"\u001b[39m)\n\u001b[32m---> \u001b[39m\u001b[32m49\u001b[39m \u001b[43mnet\u001b[49m\u001b[43m.\u001b[49m\u001b[43mtoggle_physics\u001b[49m\u001b[43m(\u001b[49m\u001b[38;5;28;43;01mFalse\u001b[39;49;00m\u001b[43m)\u001b[49m\n\u001b[32m     51\u001b[39m net.show(\u001b[33m\"\u001b[39m\u001b[33mgraphs/brujah.html\u001b[39m\u001b[33m\"\u001b[39m)\n",
      "\u001b[36mFile \u001b[39m\u001b[32m~/miniconda3/envs/vtm/lib/python3.13/site-packages/pyvis/network.py:975\u001b[39m, in \u001b[36mNetwork.toggle_physics\u001b[39m\u001b[34m(self, status)\u001b[39m\n\u001b[32m    964\u001b[39m \u001b[38;5;28;01mdef\u001b[39;00m\u001b[38;5;250m \u001b[39m\u001b[34mtoggle_physics\u001b[39m(\u001b[38;5;28mself\u001b[39m, status):\n\u001b[32m    965\u001b[39m \u001b[38;5;250m    \u001b[39m\u001b[33;03m\"\"\"\u001b[39;00m\n\u001b[32m    966\u001b[39m \u001b[33;03m    Toggles physics simulation \u001b[39;00m\n\u001b[32m    967\u001b[39m \n\u001b[32m   (...)\u001b[39m\u001b[32m    973\u001b[39m \u001b[33;03m    :type status: bool\u001b[39;00m\n\u001b[32m    974\u001b[39m \u001b[33;03m    \"\"\"\u001b[39;00m\n\u001b[32m--> \u001b[39m\u001b[32m975\u001b[39m     \u001b[38;5;28;43mself\u001b[39;49m\u001b[43m.\u001b[49m\u001b[43moptions\u001b[49m\u001b[43m.\u001b[49m\u001b[43mphysics\u001b[49m.enabled = status\n",
      "\u001b[31mAttributeError\u001b[39m: 'dict' object has no attribute 'physics'"
     ]
    }
   ],
   "source": [
    "from pyvis.network import Network\n",
    "from pyvis.options import Layout\n",
    "import networkx as nx\n",
    "from matplotlib import pyplot as plt\n",
    "\n",
    "background_color = \"#222222\"\n",
    "\n",
    "net = Network(height=\"800px\", directed=True, bgcolor=background_color, layout=True, filter_menu=True, cdn_resources='remote')\n",
    "\n",
    "brujah_temp = brujah.sort_values(by=\"Generation\")\n",
    "brujah_temp\n",
    "\n",
    "\n",
    "for index, vamp in brujah_temp.iterrows():\n",
    "\n",
    "    if not np.isnan(vamp[\"Generation\"]): \n",
    "        level = vamp[\"Generation\"]\n",
    "        net.add_node(n_id=vamp[\"Name\"],\n",
    "                    label=vamp[\"Name\"] + \"\\n\" + str(int(level)) + \" gen\",\n",
    "                    level = level, \n",
    "                    color=red_gradient[level],\n",
    "                    shape = \"box\",\n",
    "                    title = vamp[\"Link\"], #title=f\"<a href='{vamp[\"Link\"]}' target='_blank'>{vamp[\"Name\"]} \\n {int(level)} gen</a>\",\n",
    "                    font = {\"color\":\"white\"})\n",
    "\n",
    "\n",
    "for index, vamp in brujah_temp.iterrows():\n",
    "    if np.isnan(vamp[\"Generation\"]):\n",
    "        level = np.random.binomial(n = 15, p = 0.5)\n",
    "        net.add_node(n_id=vamp[\"Name\"],\n",
    "                     level = level, \n",
    "                     color=\"#BEBEBE\")\n",
    "\n",
    "for edge in brujah_edges:\n",
    "    net.add_edge(edge[0], edge[1])\n",
    "\n",
    "net.set_options(\"\"\"options= {\n",
    "        \"layout\": {\n",
    "            \"hierarchical\": {\n",
    "            \"enabled\": true,\n",
    "            \"nodeSpacing\": 15,\n",
    "            \"treeSpacing\": 10,\n",
    "            \"direction\": \"LR\"\n",
    "            }\n",
    "        }\n",
    "    }\n",
    "        \"\"\")\n",
    "\n",
    "#net.toggle_physics(False)\n",
    "    \n",
    "net.show(\"graphs/brujah.html\")"
   ]
  },
  {
   "cell_type": "code",
   "execution_count": 81,
   "id": "128061be",
   "metadata": {},
   "outputs": [
    {
     "name": "stdout",
     "output_type": "stream",
     "text": [
      "[{'color': '#991919', 'level': 3.0, 'title': 'https://whitewolf.fandom.com/wiki/Brujah_Antediluvian', 'font': {'color': 'white'}, 'id': 'Brujah Antediluvian', 'label': 'Brujah Antediluvian\\n3 gen', 'shape': 'box'}, {'color': '#991919', 'level': 3.0, 'title': 'https://whitewolf.fandom.com/wiki/Troile', 'font': {'color': 'white'}, 'id': 'Troile', 'label': 'Troile\\n3 gen', 'shape': 'box'}, {'color': '#a02626', 'level': 4.0, 'title': 'https://whitewolf.fandom.com/wiki/Gersakkun', 'font': {'color': 'white'}, 'id': 'Gersakkun', 'label': 'Gersakkun\\n4 gen', 'shape': 'box'}, {'color': '#a02626', 'level': 4.0, 'title': 'https://whitewolf.fandom.com/wiki/Azif_(Brujah)', 'font': {'color': 'white'}, 'id': 'Azif (Brujah)', 'label': 'Azif (Brujah)\\n4 gen', 'shape': 'box'}, {'color': '#a02626', 'level': 4.0, 'title': 'https://whitewolf.fandom.com/wiki/Hannibal_(Brujah)', 'font': {'color': 'white'}, 'id': 'Hannibal (Brujah)', 'label': 'Hannibal (Brujah)\\n4 gen', 'shape': 'box'}, {'color': '#a02626', 'level': 4.0, 'title': 'https://whitewolf.fandom.com/wiki/Menele', 'font': {'color': 'white'}, 'id': 'Menele', 'label': 'Menele\\n4 gen', 'shape': 'box'}, {'color': '#a02626', 'level': 4.0, 'title': 'https://whitewolf.fandom.com/wiki/Losario', 'font': {'color': 'white'}, 'id': 'Losario', 'label': 'Losario\\n4 gen', 'shape': 'box'}, {'color': '#a02626', 'level': 4.0, 'title': 'https://whitewolf.fandom.com/wiki/Etheyra', 'font': {'color': 'white'}, 'id': 'Etheyra', 'label': 'Etheyra\\n4 gen', 'shape': 'box'}, {'color': '#a83333', 'level': 5.0, 'title': 'https://whitewolf.fandom.com/wiki/Eshmunamash', 'font': {'color': 'white'}, 'id': 'Eshmunamash', 'label': 'Eshmunamash\\n5 gen', 'shape': 'box'}, {'color': '#a83333', 'level': 5.0, 'title': 'https://whitewolf.fandom.com/wiki/Adana_di_Sforza', 'font': {'color': 'white'}, 'id': 'Adana di Sforza', 'label': 'Adana di Sforza\\n5 gen', 'shape': 'box'}, {'color': '#a83333', 'level': 5.0, 'title': 'https://whitewolf.fandom.com/wiki/Uga_Dugud', 'font': {'color': 'white'}, 'id': 'Uga Dugud', 'label': 'Uga Dugud\\n5 gen', 'shape': 'box'}, {'color': '#a83333', 'level': 5.0, 'title': 'https://whitewolf.fandom.com/wiki/Guillaume', 'font': {'color': 'white'}, 'id': 'Guillaume', 'label': 'Guillaume\\n5 gen', 'shape': 'box'}, {'color': '#a83333', 'level': 5.0, 'title': 'https://whitewolf.fandom.com/wiki/Critias', 'font': {'color': 'white'}, 'id': 'Critias', 'label': 'Critias\\n5 gen', 'shape': 'box'}, {'color': '#a83333', 'level': 5.0, 'title': 'https://whitewolf.fandom.com/wiki/Dark_Raven', 'font': {'color': 'white'}, 'id': 'Dark Raven', 'label': 'Dark Raven\\n5 gen', 'shape': 'box'}, {'color': '#a83333', 'level': 5.0, 'title': 'https://whitewolf.fandom.com/wiki/Antonius_Caracus', 'font': {'color': 'white'}, 'id': 'Antonius Caracus', 'label': 'Antonius Caracus\\n5 gen', 'shape': 'box'}, {'color': '#a83333', 'level': 5.0, 'title': 'https://whitewolf.fandom.com/wiki/Altamira', 'font': {'color': 'white'}, 'id': 'Altamira', 'label': 'Altamira\\n5 gen', 'shape': 'box'}, {'color': '#a83333', 'level': 5.0, 'title': 'https://whitewolf.fandom.com/wiki/Natasia', 'font': {'color': 'white'}, 'id': 'Natasia', 'label': 'Natasia\\n5 gen', 'shape': 'box'}, {'color': '#a83333', 'level': 5.0, 'title': 'https://whitewolf.fandom.com/wiki/Yusuf_(Brujah)', 'font': {'color': 'white'}, 'id': 'Yusuf (Brujah)', 'label': 'Yusuf (Brujah)\\n5 gen', 'shape': 'box'}, {'color': '#a83333', 'level': 5.0, 'title': 'https://whitewolf.fandom.com/wiki/Marius_(Brujah)', 'font': {'color': 'white'}, 'id': 'Marius (Brujah)', 'label': 'Marius (Brujah)\\n5 gen', 'shape': 'box'}, {'color': '#a83333', 'level': 5.0, 'title': 'https://whitewolf.fandom.com/wiki/Dark_Selina', 'font': {'color': 'white'}, 'id': 'Dark Selina', 'label': 'Dark Selina\\n5 gen', 'shape': 'box'}, {'color': '#a83333', 'level': 5.0, 'title': 'https://whitewolf.fandom.com/wiki/Clear_Bear', 'font': {'color': 'white'}, 'id': 'Clear Bear', 'label': 'Clear Bear\\n5 gen', 'shape': 'box'}, {'color': '#af3f3f', 'level': 6.0, 'title': 'https://whitewolf.fandom.com/wiki/Germaine', 'font': {'color': 'white'}, 'id': 'Germaine', 'label': 'Germaine\\n6 gen', 'shape': 'box'}, {'color': '#af3f3f', 'level': 6.0, 'title': 'https://whitewolf.fandom.com/wiki/Gorias', 'font': {'color': 'white'}, 'id': 'Gorias', 'label': 'Gorias\\n6 gen', 'shape': 'box'}, {'color': '#af3f3f', 'level': 6.0, 'title': 'https://whitewolf.fandom.com/wiki/Himilcar', 'font': {'color': 'white'}, 'id': 'Himilcar', 'label': 'Himilcar\\n6 gen', 'shape': 'box'}, {'color': '#af3f3f', 'level': 6.0, 'title': 'https://whitewolf.fandom.com/wiki/Yitzhak_ben_Avraham', 'font': {'color': 'white'}, 'id': 'Yitzhak ben Avraham', 'label': 'Yitzhak ben Avraham\\n6 gen', 'shape': 'box'}, {'color': '#af3f3f', 'level': 6.0, 'title': 'https://whitewolf.fandom.com/wiki/Etheria', 'font': {'color': 'white'}, 'id': 'Etheria', 'label': 'Etheria\\n6 gen', 'shape': 'box'}, {'color': '#af3f3f', 'level': 6.0, 'title': 'https://whitewolf.fandom.com/wiki/Dysos', 'font': {'color': 'white'}, 'id': 'Dysos', 'label': 'Dysos\\n6 gen', 'shape': 'box'}, {'color': '#af3f3f', 'level': 6.0, 'title': 'https://whitewolf.fandom.com/wiki/Bjorn_Garinson', 'font': {'color': 'white'}, 'id': 'Bjorn Garinson', 'label': 'Bjorn Garinson\\n6 gen', 'shape': 'box'}, {'color': '#af3f3f', 'level': 6.0, 'title': 'https://whitewolf.fandom.com/wiki/Jabar', 'font': {'color': 'white'}, 'id': 'Jabar', 'label': 'Jabar\\n6 gen', 'shape': 'box'}, {'color': '#af3f3f', 'level': 6.0, 'title': 'https://whitewolf.fandom.com/wiki/Lannosea', 'font': {'color': 'white'}, 'id': 'Lannosea', 'label': 'Lannosea\\n6 gen', 'shape': 'box'}, {'color': '#af3f3f', 'level': 6.0, 'title': 'https://whitewolf.fandom.com/wiki/Dominic', 'font': {'color': 'white'}, 'id': 'Dominic', 'label': 'Dominic\\n6 gen', 'shape': 'box'}, {'color': '#af3f3f', 'level': 6.0, 'title': 'https://whitewolf.fandom.com/wiki/Isabella_Correlli', 'font': {'color': 'white'}, 'id': 'Isabella Correlli', 'label': 'Isabella Correlli\\n6 gen', 'shape': 'box'}, {'color': '#af3f3f', 'level': 6.0, 'title': 'https://whitewolf.fandom.com/wiki/Maxwell_(VTM)', 'font': {'color': 'white'}, 'id': 'Maxwell (VTM)', 'label': 'Maxwell (VTM)\\n6 gen', 'shape': 'box'}, {'color': '#af3f3f', 'level': 6.0, 'title': 'https://whitewolf.fandom.com/wiki/Marchettus_the_Bold', 'font': {'color': 'white'}, 'id': 'Marchettus the Bold', 'label': 'Marchettus the Bold\\n6 gen', 'shape': 'box'}, {'color': '#af3f3f', 'level': 6.0, 'title': 'https://whitewolf.fandom.com/wiki/Lucius_Cornelius_Scipio', 'font': {'color': 'white'}, 'id': 'Lucius Cornelius Scipio', 'label': 'Lucius Cornelius Scipio\\n6 gen', 'shape': 'box'}, {'color': '#af3f3f', 'level': 6.0, 'title': 'https://whitewolf.fandom.com/wiki/Procet', 'font': {'color': 'white'}, 'id': 'Procet', 'label': 'Procet\\n6 gen', 'shape': 'box'}, {'color': '#af3f3f', 'level': 6.0, 'title': 'https://whitewolf.fandom.com/wiki/Sigfried', 'font': {'color': 'white'}, 'id': 'Sigfried', 'label': 'Sigfried\\n6 gen', 'shape': 'box'}, {'color': '#af3f3f', 'level': 6.0, 'title': 'https://whitewolf.fandom.com/wiki/Roman_Pendragon', 'font': {'color': 'white'}, 'id': 'Roman Pendragon', 'label': 'Roman Pendragon\\n6 gen', 'shape': 'box'}, {'color': '#af3f3f', 'level': 6.0, 'title': 'https://whitewolf.fandom.com/wiki/Nehemiah', 'font': {'color': 'white'}, 'id': 'Nehemiah', 'label': 'Nehemiah\\n6 gen', 'shape': 'box'}, {'color': '#af3f3f', 'level': 6.0, 'title': 'https://whitewolf.fandom.com/wiki/Nathaniel_of_Carlisle', 'font': {'color': 'white'}, 'id': 'Nathaniel of Carlisle', 'label': 'Nathaniel of Carlisle\\n6 gen', 'shape': 'box'}, {'color': '#af3f3f', 'level': 6.0, 'title': 'https://whitewolf.fandom.com/wiki/Maximarius', 'font': {'color': 'white'}, 'id': 'Maximarius', 'label': 'Maximarius\\n6 gen', 'shape': 'box'}, {'color': '#af3f3f', 'level': 6.0, 'title': 'https://whitewolf.fandom.com/wiki/Lorence', 'font': {'color': 'white'}, 'id': 'Lorence', 'label': 'Lorence\\n6 gen', 'shape': 'box'}, {'color': '#af3f3f', 'level': 6.0, 'title': 'https://whitewolf.fandom.com/wiki/Tyler', 'font': {'color': 'white'}, 'id': 'Tyler', 'label': 'Tyler\\n6 gen', 'shape': 'box'}, {'color': '#af3f3f', 'level': 6.0, 'title': 'https://whitewolf.fandom.com/wiki/Themistocles', 'font': {'color': 'white'}, 'id': 'Themistocles', 'label': 'Themistocles\\n6 gen', 'shape': 'box'}, {'color': '#af3f3f', 'level': 6.0, 'title': 'https://whitewolf.fandom.com/wiki/Antonio_Veradas', 'font': {'color': 'white'}, 'id': 'Antonio Veradas', 'label': 'Antonio Veradas\\n6 gen', 'shape': 'box'}, {'color': '#af3f3f', 'level': 6.0, 'title': 'https://whitewolf.fandom.com/wiki/Vera', 'font': {'color': 'white'}, 'id': 'Vera', 'label': 'Vera\\n6 gen', 'shape': 'box'}, {'color': '#af3f3f', 'level': 6.0, 'title': 'https://whitewolf.fandom.com/wiki/Yaryan', 'font': {'color': 'white'}, 'id': 'Yaryan', 'label': 'Yaryan\\n6 gen', 'shape': 'box'}, {'color': '#af3f3f', 'level': 6.0, 'title': 'https://whitewolf.fandom.com/wiki/Tribonius', 'font': {'color': 'white'}, 'id': 'Tribonius', 'label': 'Tribonius\\n6 gen', 'shape': 'box'}, {'color': '#af3f3f', 'level': 6.0, 'title': 'https://whitewolf.fandom.com/wiki/Meridie_de_Chancie', 'font': {'color': 'white'}, 'id': 'Meridie de Chancie', 'label': 'Meridie de Chancie\\n6 gen', 'shape': 'box'}, {'color': '#af3f3f', 'level': 6.0, 'title': 'https://whitewolf.fandom.com/wiki/Jann_Berger', 'font': {'color': 'white'}, 'id': 'Jann Berger', 'label': 'Jann Berger\\n6 gen', 'shape': 'box'}, {'color': '#af3f3f', 'level': 6.0, 'title': 'https://whitewolf.fandom.com/wiki/Eleanor_de_Valois', 'font': {'color': 'white'}, 'id': 'Eleanor de Valois', 'label': 'Eleanor de Valois\\n6 gen', 'shape': 'box'}, {'color': '#af3f3f', 'level': 6.0, 'title': 'https://whitewolf.fandom.com/wiki/Damien', 'font': {'color': 'white'}, 'id': 'Damien', 'label': 'Damien\\n6 gen', 'shape': 'box'}, {'color': '#af3f3f', 'level': 6.0, 'title': 'https://whitewolf.fandom.com/wiki/Don_Caravelli', 'font': {'color': 'white'}, 'id': 'Don Caravelli', 'label': 'Don Caravelli\\n6 gen', 'shape': 'box'}, {'color': '#b64c4c', 'level': 7.0, 'title': 'https://whitewolf.fandom.com/wiki/Enrique_the_Navigator', 'font': {'color': 'white'}, 'id': 'Enrique the Navigator', 'label': 'Enrique the Navigator\\n7 gen', 'shape': 'box'}, {'color': '#b64c4c', 'level': 7.0, 'title': 'https://whitewolf.fandom.com/wiki/Helissente', 'font': {'color': 'white'}, 'id': 'Helissente', 'label': 'Helissente\\n7 gen', 'shape': 'box'}, {'color': '#b64c4c', 'level': 7.0, 'title': 'https://whitewolf.fandom.com/wiki/Elle', 'font': {'color': 'white'}, 'id': 'Elle', 'label': 'Elle\\n7 gen', 'shape': 'box'}, {'color': '#b64c4c', 'level': 7.0, 'title': 'https://whitewolf.fandom.com/wiki/Nasir_ibn_Mansur', 'font': {'color': 'white'}, 'id': 'Nasir ibn Mansur', 'label': 'Nasir ibn Mansur\\n7 gen', 'shape': 'box'}, {'color': '#b64c4c', 'level': 7.0, 'title': 'https://whitewolf.fandom.com/wiki/General_(VTM)', 'font': {'color': 'white'}, 'id': 'General (VTM)', 'label': 'General (VTM)\\n7 gen', 'shape': 'box'}, {'color': '#b64c4c', 'level': 7.0, 'title': 'https://whitewolf.fandom.com/wiki/Gwenllian_Arwyn', 'font': {'color': 'white'}, 'id': 'Gwenllian Arwyn', 'label': 'Gwenllian Arwyn\\n7 gen', 'shape': 'box'}, {'color': '#b64c4c', 'level': 7.0, 'title': 'https://whitewolf.fandom.com/wiki/Perry_Commons', 'font': {'color': 'white'}, 'id': 'Perry Commons', 'label': 'Perry Commons\\n7 gen', 'shape': 'box'}, {'color': '#b64c4c', 'level': 7.0, 'title': 'https://whitewolf.fandom.com/wiki/Cocceius', 'font': {'color': 'white'}, 'id': 'Cocceius', 'label': 'Cocceius\\n7 gen', 'shape': 'box'}, {'color': '#b64c4c', 'level': 7.0, 'title': 'https://whitewolf.fandom.com/wiki/Ecaterina', 'font': {'color': 'white'}, 'id': 'Ecaterina', 'label': 'Ecaterina\\n7 gen', 'shape': 'box'}, {'color': '#b64c4c', 'level': 7.0, 'title': 'https://whitewolf.fandom.com/wiki/Alexis_Blanc', 'font': {'color': 'white'}, 'id': 'Alexis Blanc', 'label': 'Alexis Blanc\\n7 gen', 'shape': 'box'}, {'color': '#b64c4c', 'level': 7.0, 'title': 'https://whitewolf.fandom.com/wiki/Bonifatius', 'font': {'color': 'white'}, 'id': 'Bonifatius', 'label': 'Bonifatius\\n7 gen', 'shape': 'box'}, {'color': '#b64c4c', 'level': 7.0, 'title': 'https://whitewolf.fandom.com/wiki/Marhuel', 'font': {'color': 'white'}, 'id': 'Marhuel', 'label': 'Marhuel\\n7 gen', 'shape': 'box'}, {'color': '#b64c4c', 'level': 7.0, 'title': 'https://whitewolf.fandom.com/wiki/Archibald_Streck', 'font': {'color': 'white'}, 'id': 'Archibald Streck', 'label': 'Archibald Streck\\n7 gen', 'shape': 'box'}, {'color': '#b64c4c', 'level': 7.0, 'title': 'https://whitewolf.fandom.com/wiki/Edward_Scott', 'font': {'color': 'white'}, 'id': 'Edward Scott', 'label': 'Edward Scott\\n7 gen', 'shape': 'box'}, {'color': '#b64c4c', 'level': 7.0, 'title': 'https://whitewolf.fandom.com/wiki/Septemus', 'font': {'color': 'white'}, 'id': 'Septemus', 'label': 'Septemus\\n7 gen', 'shape': 'box'}, {'color': '#b64c4c', 'level': 7.0, 'title': 'https://whitewolf.fandom.com/wiki/Miguel_Santo_Domingo', 'font': {'color': 'white'}, 'id': 'Miguel Santo Domingo', 'label': 'Miguel Santo Domingo\\n7 gen', 'shape': 'box'}, {'color': '#b64c4c', 'level': 7.0, 'title': 'https://whitewolf.fandom.com/wiki/Armando_Rio', 'font': {'color': 'white'}, 'id': 'Armando Rio', 'label': 'Armando Rio\\n7 gen', 'shape': 'box'}, {'color': '#b64c4c', 'level': 7.0, 'title': 'https://whitewolf.fandom.com/wiki/Juan_Quintero', 'font': {'color': 'white'}, 'id': 'Juan Quintero', 'label': 'Juan Quintero\\n7 gen', 'shape': 'box'}, {'color': '#b64c4c', 'level': 7.0, 'title': 'https://whitewolf.fandom.com/wiki/Jaroslav_Pascek', 'font': {'color': 'white'}, 'id': 'Jaroslav Pascek', 'label': 'Jaroslav Pascek\\n7 gen', 'shape': 'box'}, {'color': '#b64c4c', 'level': 7.0, 'title': 'https://whitewolf.fandom.com/wiki/Julian_Sanders', 'font': {'color': 'white'}, 'id': 'Julian Sanders', 'label': 'Julian Sanders\\n7 gen', 'shape': 'box'}, {'color': '#b64c4c', 'level': 7.0, 'title': 'https://whitewolf.fandom.com/wiki/Lilika_Kairos', 'font': {'color': 'white'}, 'id': 'Lilika Kairos', 'label': 'Lilika Kairos\\n7 gen', 'shape': 'box'}, {'color': '#b64c4c', 'level': 7.0, 'title': 'https://whitewolf.fandom.com/wiki/Robin_Leeland', 'font': {'color': 'white'}, 'id': 'Robin Leeland', 'label': 'Robin Leeland\\n7 gen', 'shape': 'box'}, {'color': '#b64c4c', 'level': 7.0, 'title': 'https://whitewolf.fandom.com/wiki/Dieter_Kotlar', 'font': {'color': 'white'}, 'id': 'Dieter Kotlar', 'label': 'Dieter Kotlar\\n7 gen', 'shape': 'box'}, {'color': '#b64c4c', 'level': 7.0, 'title': 'https://whitewolf.fandom.com/wiki/Jared', 'font': {'color': 'white'}, 'id': 'Jared', 'label': 'Jared\\n7 gen', 'shape': 'box'}, {'color': '#b64c4c', 'level': 7.0, 'title': 'https://whitewolf.fandom.com/wiki/Dmitra_Ilyanova', 'font': {'color': 'white'}, 'id': 'Dmitra Ilyanova', 'label': 'Dmitra Ilyanova\\n7 gen', 'shape': 'box'}, {'color': '#b64c4c', 'level': 7.0, 'title': 'https://whitewolf.fandom.com/wiki/James_the_Red', 'font': {'color': 'white'}, 'id': 'James the Red', 'label': 'James the Red\\n7 gen', 'shape': 'box'}, {'color': '#b64c4c', 'level': 7.0, 'title': 'https://whitewolf.fandom.com/wiki/Usama_ibn_Jabar', 'font': {'color': 'white'}, 'id': 'Usama ibn Jabar', 'label': 'Usama ibn Jabar\\n7 gen', 'shape': 'box'}, {'color': '#b64c4c', 'level': 7.0, 'title': 'https://whitewolf.fandom.com/wiki/Andrei_(Brujah)', 'font': {'color': 'white'}, 'id': 'Andrei (Brujah)', 'label': 'Andrei (Brujah)\\n7 gen', 'shape': 'box'}, {'color': '#b64c4c', 'level': 7.0, 'title': 'https://whitewolf.fandom.com/wiki/Dorotheus', 'font': {'color': 'white'}, 'id': 'Dorotheus', 'label': 'Dorotheus\\n7 gen', 'shape': 'box'}, {'color': '#b64c4c', 'level': 7.0, 'title': 'https://whitewolf.fandom.com/wiki/Thrax', 'font': {'color': 'white'}, 'id': 'Thrax', 'label': 'Thrax\\n7 gen', 'shape': 'box'}, {'color': '#b64c4c', 'level': 7.0, 'title': 'https://whitewolf.fandom.com/wiki/Natalya_Svyatoslav', 'font': {'color': 'white'}, 'id': 'Natalya Svyatoslav', 'label': 'Natalya Svyatoslav\\n7 gen', 'shape': 'box'}, {'color': '#b64c4c', 'level': 7.0, 'title': 'https://whitewolf.fandom.com/wiki/Theophilus', 'font': {'color': 'white'}, 'id': 'Theophilus', 'label': 'Theophilus\\n7 gen', 'shape': 'box'}, {'color': '#b64c4c', 'level': 7.0, 'title': 'https://whitewolf.fandom.com/wiki/Aaron_Wilkshire', 'font': {'color': 'white'}, 'id': 'Aaron Wilkshire', 'label': 'Aaron Wilkshire\\n7 gen', 'shape': 'box'}, {'color': '#b64c4c', 'level': 7.0, 'title': 'https://whitewolf.fandom.com/wiki/Pietr', 'font': {'color': 'white'}, 'id': 'Pietr', 'label': 'Pietr\\n7 gen', 'shape': 'box'}, {'color': '#b64c4c', 'level': 7.0, 'title': 'https://whitewolf.fandom.com/wiki/Albertus_Magnus_(VTM)', 'font': {'color': 'white'}, 'id': 'Albertus Magnus (VTM)', 'label': 'Albertus Magnus (VTM)\\n7 gen', 'shape': 'box'}, {'color': '#b64c4c', 'level': 7.0, 'title': 'https://whitewolf.fandom.com/wiki/Verias', 'font': {'color': 'white'}, 'id': 'Verias', 'label': 'Verias\\n7 gen', 'shape': 'box'}, {'color': '#b64c4c', 'level': 7.0, 'title': 'https://whitewolf.fandom.com/wiki/Corrie_Tinbergen', 'font': {'color': 'white'}, 'id': 'Corrie Tinbergen', 'label': 'Corrie Tinbergen\\n7 gen', 'shape': 'box'}, {'color': '#b64c4c', 'level': 7.0, 'title': 'https://whitewolf.fandom.com/wiki/Red_Meg', 'font': {'color': 'white'}, 'id': 'Red Meg', 'label': 'Red Meg\\n7 gen', 'shape': 'box'}, {'color': '#bd5959', 'level': 8.0, 'title': 'https://whitewolf.fandom.com/wiki/Jeremy_MacNeil', 'font': {'color': 'white'}, 'id': 'Jeremy MacNeil', 'label': 'Jeremy MacNeil\\n8 gen', 'shape': 'box'}, {'color': '#bd5959', 'level': 8.0, 'title': 'https://whitewolf.fandom.com/wiki/Portia_(Brujah)', 'font': {'color': 'white'}, 'id': 'Portia (Brujah)', 'label': 'Portia (Brujah)\\n8 gen', 'shape': 'box'}, {'color': '#bd5959', 'level': 8.0, 'title': 'https://whitewolf.fandom.com/wiki/Zawadi_Locke', 'font': {'color': 'white'}, 'id': 'Zawadi Locke', 'label': 'Zawadi Locke\\n8 gen', 'shape': 'box'}, {'color': '#bd5959', 'level': 8.0, 'title': 'https://whitewolf.fandom.com/wiki/Joshua_Tarnopolski', 'font': {'color': 'white'}, 'id': 'Joshua Tarnopolski', 'label': 'Joshua Tarnopolski\\n8 gen', 'shape': 'box'}, {'color': '#bd5959', 'level': 8.0, 'title': 'https://whitewolf.fandom.com/wiki/Christof_Romuald', 'font': {'color': 'white'}, 'id': 'Christof Romuald', 'label': 'Christof Romuald\\n8 gen', 'shape': 'box'}, {'color': '#bd5959', 'level': 8.0, 'title': 'https://whitewolf.fandom.com/wiki/Kirill', 'font': {'color': 'white'}, 'id': 'Kirill', 'label': 'Kirill\\n8 gen', 'shape': 'box'}, {'color': '#bd5959', 'level': 8.0, 'title': 'https://whitewolf.fandom.com/wiki/Juggler', 'font': {'color': 'white'}, 'id': 'Juggler', 'label': 'Juggler\\n8 gen', 'shape': 'box'}, {'color': '#bd5959', 'level': 8.0, 'title': 'https://whitewolf.fandom.com/wiki/Lady_Karin', 'font': {'color': 'white'}, 'id': 'Lady Karin', 'label': 'Lady Karin\\n8 gen', 'shape': 'box'}, {'color': '#bd5959', 'level': 8.0, 'title': 'https://whitewolf.fandom.com/wiki/Angelino_Hammer', 'font': {'color': 'white'}, 'id': 'Angelino Hammer', 'label': 'Angelino Hammer\\n8 gen', 'shape': 'box'}, {'color': '#bd5959', 'level': 8.0, 'title': 'https://whitewolf.fandom.com/wiki/Kyle_Forbenson', 'font': {'color': 'white'}, 'id': 'Kyle Forbenson', 'label': 'Kyle Forbenson\\n8 gen', 'shape': 'box'}, {'color': '#bd5959', 'level': 8.0, 'title': 'https://whitewolf.fandom.com/wiki/Gold_Pan_Dan', 'font': {'color': 'white'}, 'id': 'Gold Pan Dan', 'label': 'Gold Pan Dan\\n8 gen', 'shape': 'box'}, {'color': '#bd5959', 'level': 8.0, 'title': 'https://whitewolf.fandom.com/wiki/Eudes_de_Troyes', 'font': {'color': 'white'}, 'id': 'Eudes de Troyes', 'label': 'Eudes de Troyes\\n8 gen', 'shape': 'box'}, {'color': '#bd5959', 'level': 8.0, 'title': 'https://whitewolf.fandom.com/wiki/Emily_Coldara', 'font': {'color': 'white'}, 'id': 'Emily Coldara', 'label': 'Emily Coldara\\n8 gen', 'shape': 'box'}, {'color': '#bd5959', 'level': 8.0, 'title': 'https://whitewolf.fandom.com/wiki/Santiago_DeSoto', 'font': {'color': 'white'}, 'id': 'Santiago DeSoto', 'label': 'Santiago DeSoto\\n8 gen', 'shape': 'box'}, {'color': '#bd5959', 'level': 8.0, 'title': 'https://whitewolf.fandom.com/wiki/Don_Cerro', 'font': {'color': 'white'}, 'id': 'Don Cerro', 'label': 'Don Cerro\\n8 gen', 'shape': 'box'}, {'color': '#bd5959', 'level': 8.0, 'title': 'https://whitewolf.fandom.com/wiki/Carlak', 'font': {'color': 'white'}, 'id': 'Carlak', 'label': 'Carlak\\n8 gen', 'shape': 'box'}, {'color': '#bd5959', 'level': 8.0, 'title': 'https://whitewolf.fandom.com/wiki/Juan_Carlos', 'font': {'color': 'white'}, 'id': 'Juan Carlos', 'label': 'Juan Carlos\\n8 gen', 'shape': 'box'}, {'color': '#bd5959', 'level': 8.0, 'title': 'https://whitewolf.fandom.com/wiki/Hanifa_bint_Nasir_ar-Rashid', 'font': {'color': 'white'}, 'id': 'Hanifa bint Nasir ar-Rashid', 'label': 'Hanifa bint Nasir ar-Rashid\\n8 gen', 'shape': 'box'}, {'color': '#bd5959', 'level': 8.0, 'title': 'https://whitewolf.fandom.com/wiki/Akawa', 'font': {'color': 'white'}, 'id': 'Akawa', 'label': 'Akawa\\n8 gen', 'shape': 'box'}, {'color': '#bd5959', 'level': 8.0, 'title': 'https://whitewolf.fandom.com/wiki/Amelia', 'font': {'color': 'white'}, 'id': 'Amelia', 'label': 'Amelia\\n8 gen', 'shape': 'box'}, {'color': '#bd5959', 'level': 8.0, 'title': 'https://whitewolf.fandom.com/wiki/Justin_Davies', 'font': {'color': 'white'}, 'id': 'Justin Davies', 'label': 'Justin Davies\\n8 gen', 'shape': 'box'}, {'color': '#bd5959', 'level': 8.0, 'title': 'https://whitewolf.fandom.com/wiki/Geist_(VTM)', 'font': {'color': 'white'}, 'id': 'Geist (VTM)', 'label': 'Geist (VTM)\\n8 gen', 'shape': 'box'}, {'color': '#bd5959', 'level': 8.0, 'title': 'https://whitewolf.fandom.com/wiki/Edgardo_Robbia', 'font': {'color': 'white'}, 'id': 'Edgardo Robbia', 'label': 'Edgardo Robbia\\n8 gen', 'shape': 'box'}, {'color': '#bd5959', 'level': 8.0, 'title': 'https://whitewolf.fandom.com/wiki/Erika_Geiger', 'font': {'color': 'white'}, 'id': 'Erika Geiger', 'label': 'Erika Geiger\\n8 gen', 'shape': 'box'}, {'color': '#bd5959', 'level': 8.0, 'title': 'https://whitewolf.fandom.com/wiki/Balthazar_(Brujah)', 'font': {'color': 'white'}, 'id': 'Balthazar (Brujah)', 'label': 'Balthazar (Brujah)\\n8 gen', 'shape': 'box'}, {'color': '#bd5959', 'level': 8.0, 'title': 'https://whitewolf.fandom.com/wiki/Earl_of_Galtre', 'font': {'color': 'white'}, 'id': 'Earl of Galtre', 'label': 'Earl of Galtre\\n8 gen', 'shape': 'box'}, {'color': '#c46666', 'level': 9.0, 'title': 'https://whitewolf.fandom.com/wiki/Chun_Hei', 'font': {'color': 'white'}, 'id': 'Chun Hei', 'label': 'Chun Hei\\n9 gen', 'shape': 'box'}, {'color': '#c46666', 'level': 9.0, 'title': 'https://whitewolf.fandom.com/wiki/Neil_Graham', 'font': {'color': 'white'}, 'id': 'Neil Graham', 'label': 'Neil Graham\\n9 gen', 'shape': 'box'}, {'color': '#c46666', 'level': 9.0, 'title': 'https://whitewolf.fandom.com/wiki/Marc_Levesque', 'font': {'color': 'white'}, 'id': 'Marc Levesque', 'label': 'Marc Levesque\\n9 gen', 'shape': 'box'}, {'color': '#c46666', 'level': 9.0, 'title': 'https://whitewolf.fandom.com/wiki/Sasha_Esser', 'font': {'color': 'white'}, 'id': 'Sasha Esser', 'label': 'Sasha Esser\\n9 gen', 'shape': 'box'}, {'color': '#c46666', 'level': 9.0, 'title': 'https://whitewolf.fandom.com/wiki/Tommaso_Ghibli', 'font': {'color': 'white'}, 'id': 'Tommaso Ghibli', 'label': 'Tommaso Ghibli\\n9 gen', 'shape': 'box'}, {'color': '#c46666', 'level': 9.0, 'title': 'https://whitewolf.fandom.com/wiki/Aline_G%C3%A4deke', 'font': {'color': 'white'}, 'id': 'Aline Gädeke', 'label': 'Aline Gädeke\\n9 gen', 'shape': 'box'}, {'color': '#c46666', 'level': 9.0, 'title': 'https://whitewolf.fandom.com/wiki/Dutch', 'font': {'color': 'white'}, 'id': 'Dutch', 'label': 'Dutch\\n9 gen', 'shape': 'box'}, {'color': '#c46666', 'level': 9.0, 'title': 'https://whitewolf.fandom.com/wiki/Marguerite_Foccart', 'font': {'color': 'white'}, 'id': 'Marguerite Foccart', 'label': 'Marguerite Foccart\\n9 gen', 'shape': 'box'}, {'color': '#c46666', 'level': 9.0, 'title': 'https://whitewolf.fandom.com/wiki/Guilherme', 'font': {'color': 'white'}, 'id': 'Guilherme', 'label': 'Guilherme\\n9 gen', 'shape': 'box'}, {'color': '#c46666', 'level': 9.0, 'title': 'https://whitewolf.fandom.com/wiki/Tara_Kearney', 'font': {'color': 'white'}, 'id': 'Tara Kearney', 'label': 'Tara Kearney\\n9 gen', 'shape': 'box'}, {'color': '#c46666', 'level': 9.0, 'title': 'https://whitewolf.fandom.com/wiki/Salvador_Garc%C3%ADa', 'font': {'color': 'white'}, 'id': 'Salvador García', 'label': 'Salvador García\\n9 gen', 'shape': 'box'}, {'color': '#c46666', 'level': 9.0, 'title': 'https://whitewolf.fandom.com/wiki/Robert_Therwell', 'font': {'color': 'white'}, 'id': 'Robert Therwell', 'label': 'Robert Therwell\\n9 gen', 'shape': 'box'}, {'color': '#c46666', 'level': 9.0, 'title': 'https://whitewolf.fandom.com/wiki/Mama_Lion', 'font': {'color': 'white'}, 'id': 'Mama Lion', 'label': 'Mama Lion\\n9 gen', 'shape': 'box'}, {'color': '#c46666', 'level': 9.0, 'title': 'https://whitewolf.fandom.com/wiki/Shark_(Brujah)', 'font': {'color': 'white'}, 'id': 'Shark (Brujah)', 'label': 'Shark (Brujah)\\n9 gen', 'shape': 'box'}, {'color': '#c46666', 'level': 9.0, 'title': 'https://whitewolf.fandom.com/wiki/The_Devil_Boudreaux', 'font': {'color': 'white'}, 'id': 'The Devil Boudreaux', 'label': 'The Devil Boudreaux\\n9 gen', 'shape': 'box'}, {'color': '#c46666', 'level': 9.0, 'title': 'https://whitewolf.fandom.com/wiki/Lord_Alfred', 'font': {'color': 'white'}, 'id': 'Lord Alfred', 'label': 'Lord Alfred\\n9 gen', 'shape': 'box'}, {'color': '#c46666', 'level': 9.0, 'title': 'https://whitewolf.fandom.com/wiki/Cosmas', 'font': {'color': 'white'}, 'id': 'Cosmas', 'label': 'Cosmas\\n9 gen', 'shape': 'box'}, {'color': '#c46666', 'level': 9.0, 'title': 'https://whitewolf.fandom.com/wiki/Quentin_de_Senlis', 'font': {'color': 'white'}, 'id': 'Quentin de Senlis', 'label': 'Quentin de Senlis\\n9 gen', 'shape': 'box'}, {'color': '#c46666', 'level': 9.0, 'title': 'https://whitewolf.fandom.com/wiki/Gusman_Bravo', 'font': {'color': 'white'}, 'id': 'Gusman Bravo', 'label': 'Gusman Bravo\\n9 gen', 'shape': 'box'}, {'color': '#c46666', 'level': 9.0, 'title': 'https://whitewolf.fandom.com/wiki/Theo_Bell', 'font': {'color': 'white'}, 'id': 'Theo Bell', 'label': 'Theo Bell\\n9 gen', 'shape': 'box'}, {'color': '#c46666', 'level': 9.0, 'title': 'https://whitewolf.fandom.com/wiki/Anezka', 'font': {'color': 'white'}, 'id': 'Anezka', 'label': 'Anezka\\n9 gen', 'shape': 'box'}, {'color': '#c46666', 'level': 9.0, 'title': 'https://whitewolf.fandom.com/wiki/Atiena', 'font': {'color': 'white'}, 'id': 'Atiena', 'label': 'Atiena\\n9 gen', 'shape': 'box'}, {'color': '#c46666', 'level': 9.0, 'title': 'https://whitewolf.fandom.com/wiki/Breton', 'font': {'color': 'white'}, 'id': 'Breton', 'label': 'Breton\\n9 gen', 'shape': 'box'}, {'color': '#c46666', 'level': 9.0, 'title': 'https://whitewolf.fandom.com/wiki/V%C3%A9ronique_d%27Orl%C3%A9ans', 'font': {'color': 'white'}, 'id': \"Véronique d'Orléans\", 'label': \"Véronique d'Orléans\\n9 gen\", 'shape': 'box'}, {'color': '#c46666', 'level': 9.0, 'title': 'https://whitewolf.fandom.com/wiki/Pierre_Bellemare', 'font': {'color': 'white'}, 'id': 'Pierre Bellemare', 'label': 'Pierre Bellemare\\n9 gen', 'shape': 'box'}, {'color': '#c46666', 'level': 9.0, 'title': 'https://whitewolf.fandom.com/wiki/Grace_Boateng', 'font': {'color': 'white'}, 'id': 'Grace Boateng', 'label': 'Grace Boateng\\n9 gen', 'shape': 'box'}, {'color': '#c46666', 'level': 9.0, 'title': 'https://whitewolf.fandom.com/wiki/Kyle_McConner', 'font': {'color': 'white'}, 'id': 'Kyle McConner', 'label': 'Kyle McConner\\n9 gen', 'shape': 'box'}, {'color': '#c46666', 'level': 9.0, 'title': 'https://whitewolf.fandom.com/wiki/Natalio', 'font': {'color': 'white'}, 'id': 'Natalio', 'label': 'Natalio\\n9 gen', 'shape': 'box'}, {'color': '#c46666', 'level': 9.0, 'title': 'https://whitewolf.fandom.com/wiki/D%C3%B3nal_O%27Connor', 'font': {'color': 'white'}, 'id': \"Dónal O'Connor\", 'label': \"Dónal O'Connor\\n9 gen\", 'shape': 'box'}, {'color': '#c46666', 'level': 9.0, 'title': 'https://whitewolf.fandom.com/wiki/Octane', 'font': {'color': 'white'}, 'id': 'Octane', 'label': 'Octane\\n9 gen', 'shape': 'box'}, {'color': '#c46666', 'level': 9.0, 'title': 'https://whitewolf.fandom.com/wiki/Sarka', 'font': {'color': 'white'}, 'id': 'Sarka', 'label': 'Sarka\\n9 gen', 'shape': 'box'}, {'color': '#c46666', 'level': 9.0, 'title': 'https://whitewolf.fandom.com/wiki/Armando_Rodriguez', 'font': {'color': 'white'}, 'id': 'Armando Rodriguez', 'label': 'Armando Rodriguez\\n9 gen', 'shape': 'box'}, {'color': '#c46666', 'level': 9.0, 'title': 'https://whitewolf.fandom.com/wiki/Saku_Pihlajamaki', 'font': {'color': 'white'}, 'id': 'Saku Pihlajamaki', 'label': 'Saku Pihlajamaki\\n9 gen', 'shape': 'box'}, {'color': '#c46666', 'level': 9.0, 'title': 'https://whitewolf.fandom.com/wiki/Evelyn_Stephens', 'font': {'color': 'white'}, 'id': 'Evelyn Stephens', 'label': 'Evelyn Stephens\\n9 gen', 'shape': 'box'}, {'color': '#c46666', 'level': 9.0, 'title': 'https://whitewolf.fandom.com/wiki/Roy', 'font': {'color': 'white'}, 'id': 'Roy', 'label': 'Roy\\n9 gen', 'shape': 'box'}, {'color': '#c46666', 'level': 9.0, 'title': 'https://whitewolf.fandom.com/wiki/Wrecker', 'font': {'color': 'white'}, 'id': 'Wrecker', 'label': 'Wrecker\\n9 gen', 'shape': 'box'}, {'color': '#c46666', 'level': 9.0, 'title': 'https://whitewolf.fandom.com/wiki/Wah_Chun-Yuen', 'font': {'color': 'white'}, 'id': 'Wah Chun-Yuen', 'label': 'Wah Chun-Yuen\\n9 gen', 'shape': 'box'}, {'color': '#c46666', 'level': 9.0, 'title': 'https://whitewolf.fandom.com/wiki/Valeriya_Zinovieva', 'font': {'color': 'white'}, 'id': 'Valeriya Zinovieva', 'label': 'Valeriya Zinovieva\\n9 gen', 'shape': 'box'}, {'color': '#c46666', 'level': 9.0, 'title': 'https://whitewolf.fandom.com/wiki/George_Panakot', 'font': {'color': 'white'}, 'id': 'George Panakot', 'label': 'George Panakot\\n9 gen', 'shape': 'box'}, {'color': '#cc7272', 'level': 10.0, 'title': 'https://whitewolf.fandom.com/wiki/Nerea', 'font': {'color': 'white'}, 'id': 'Nerea', 'label': 'Nerea\\n10 gen', 'shape': 'box'}, {'color': '#cc7272', 'level': 10.0, 'title': 'https://whitewolf.fandom.com/wiki/Gloria_Martinez', 'font': {'color': 'white'}, 'id': 'Gloria Martinez', 'label': 'Gloria Martinez\\n10 gen', 'shape': 'box'}, {'color': '#cc7272', 'level': 10.0, 'title': 'https://whitewolf.fandom.com/wiki/Allison_Maller', 'font': {'color': 'white'}, 'id': 'Allison Maller', 'label': 'Allison Maller\\n10 gen', 'shape': 'box'}, {'color': '#cc7272', 'level': 10.0, 'title': 'https://whitewolf.fandom.com/wiki/Crispus_Attucks', 'font': {'color': 'white'}, 'id': 'Crispus Attucks', 'label': 'Crispus Attucks\\n10 gen', 'shape': 'box'}, {'color': '#cc7272', 'level': 10.0, 'title': 'https://whitewolf.fandom.com/wiki/Paul_Bedwell', 'font': {'color': 'white'}, 'id': 'Paul Bedwell', 'label': 'Paul Bedwell\\n10 gen', 'shape': 'box'}, {'color': '#cc7272', 'level': 10.0, 'title': 'https://whitewolf.fandom.com/wiki/Manuela_Cardoso_Pinto', 'font': {'color': 'white'}, 'id': 'Manuela Cardoso Pinto', 'label': 'Manuela Cardoso Pinto\\n10 gen', 'shape': 'box'}, {'color': '#cc7272', 'level': 10.0, 'title': 'https://whitewolf.fandom.com/wiki/Steve_Booth', 'font': {'color': 'white'}, 'id': 'Steve Booth', 'label': 'Steve Booth\\n10 gen', 'shape': 'box'}, {'color': '#cc7272', 'level': 10.0, 'title': 'https://whitewolf.fandom.com/wiki/Valeria', 'font': {'color': 'white'}, 'id': 'Valeria', 'label': 'Valeria\\n10 gen', 'shape': 'box'}, {'color': '#cc7272', 'level': 10.0, 'title': 'https://whitewolf.fandom.com/wiki/Herbert_Westin', 'font': {'color': 'white'}, 'id': 'Herbert Westin', 'label': 'Herbert Westin\\n10 gen', 'shape': 'box'}, {'color': '#cc7272', 'level': 10.0, 'title': 'https://whitewolf.fandom.com/wiki/Wilhem_Streicher', 'font': {'color': 'white'}, 'id': 'Wilhem Streicher', 'label': 'Wilhem Streicher\\n10 gen', 'shape': 'box'}, {'color': '#cc7272', 'level': 10.0, 'title': 'https://whitewolf.fandom.com/wiki/Adelino_Da_Silva', 'font': {'color': 'white'}, 'id': 'Adelino Da Silva', 'label': 'Adelino Da Silva\\n10 gen', 'shape': 'box'}, {'color': '#cc7272', 'level': 10.0, 'title': 'https://whitewolf.fandom.com/wiki/Smiling_Jack', 'font': {'color': 'white'}, 'id': 'Smiling Jack', 'label': 'Smiling Jack\\n10 gen', 'shape': 'box'}, {'color': '#cc7272', 'level': 10.0, 'title': 'https://whitewolf.fandom.com/wiki/Takuya_Shiraiwa', 'font': {'color': 'white'}, 'id': 'Takuya Shiraiwa', 'label': 'Takuya Shiraiwa\\n10 gen', 'shape': 'box'}, {'color': '#cc7272', 'level': 10.0, 'title': 'https://whitewolf.fandom.com/wiki/Elen_Kamjian', 'font': {'color': 'white'}, 'id': 'Elen Kamjian', 'label': 'Elen Kamjian\\n10 gen', 'shape': 'box'}, {'color': '#cc7272', 'level': 10.0, 'title': 'https://whitewolf.fandom.com/wiki/Fairuza', 'font': {'color': 'white'}, 'id': 'Fairuza', 'label': 'Fairuza\\n10 gen', 'shape': 'box'}, {'color': '#cc7272', 'level': 10.0, 'title': 'https://whitewolf.fandom.com/wiki/Evangeline', 'font': {'color': 'white'}, 'id': 'Evangeline', 'label': 'Evangeline\\n10 gen', 'shape': 'box'}, {'color': '#cc7272', 'level': 10.0, 'title': 'https://whitewolf.fandom.com/wiki/Siarhei_Levchenko', 'font': {'color': 'white'}, 'id': 'Siarhei Levchenko', 'label': 'Siarhei Levchenko\\n10 gen', 'shape': 'box'}, {'color': '#cc7272', 'level': 10.0, 'title': 'https://whitewolf.fandom.com/wiki/Brandon_Grime', 'font': {'color': 'white'}, 'id': 'Brandon Grime', 'label': 'Brandon Grime\\n10 gen', 'shape': 'box'}, {'color': '#cc7272', 'level': 10.0, 'title': 'https://whitewolf.fandom.com/wiki/Avi_Khayal', 'font': {'color': 'white'}, 'id': 'Avi Khayal', 'label': 'Avi Khayal\\n10 gen', 'shape': 'box'}, {'color': '#cc7272', 'level': 10.0, 'title': 'https://whitewolf.fandom.com/wiki/Dahlili_Mozambique', 'font': {'color': 'white'}, 'id': 'Dahlili Mozambique', 'label': 'Dahlili Mozambique\\n10 gen', 'shape': 'box'}, {'color': '#cc7272', 'level': 10.0, 'title': 'https://whitewolf.fandom.com/wiki/Alessandro_de_Garcia', 'font': {'color': 'white'}, 'id': 'Alessandro de Garcia', 'label': 'Alessandro de Garcia\\n10 gen', 'shape': 'box'}, {'color': '#cc7272', 'level': 10.0, 'title': 'https://whitewolf.fandom.com/wiki/Tony_Castelli', 'font': {'color': 'white'}, 'id': 'Tony Castelli', 'label': 'Tony Castelli\\n10 gen', 'shape': 'box'}, {'color': '#cc7272', 'level': 10.0, 'title': 'https://whitewolf.fandom.com/wiki/Cherubim_(VTM)', 'font': {'color': 'white'}, 'id': 'Cherubim (VTM)', 'label': 'Cherubim (VTM)\\n10 gen', 'shape': 'box'}, {'color': '#cc7272', 'level': 10.0, 'title': 'https://whitewolf.fandom.com/wiki/Bruce_Courter', 'font': {'color': 'white'}, 'id': 'Bruce Courter', 'label': 'Bruce Courter\\n10 gen', 'shape': 'box'}, {'color': '#cc7272', 'level': 10.0, 'title': 'https://whitewolf.fandom.com/wiki/Carlyle', 'font': {'color': 'white'}, 'id': 'Carlyle', 'label': 'Carlyle\\n10 gen', 'shape': 'box'}, {'color': '#cc7272', 'level': 10.0, 'title': 'https://whitewolf.fandom.com/wiki/Hank_Cave', 'font': {'color': 'white'}, 'id': 'Hank Cave', 'label': 'Hank Cave\\n10 gen', 'shape': 'box'}, {'color': '#d37f7f', 'level': 11.0, 'title': 'https://whitewolf.fandom.com/wiki/Manfred_Bauer', 'font': {'color': 'white'}, 'id': 'Manfred Bauer', 'label': 'Manfred Bauer\\n11 gen', 'shape': 'box'}, {'color': '#d37f7f', 'level': 11.0, 'title': 'https://whitewolf.fandom.com/wiki/Cecily_Bain', 'font': {'color': 'white'}, 'id': 'Cecily Bain', 'label': 'Cecily Bain\\n11 gen', 'shape': 'box'}, {'color': '#d37f7f', 'level': 11.0, 'title': 'https://whitewolf.fandom.com/wiki/Theodore_Dooley', 'font': {'color': 'white'}, 'id': 'Theodore Dooley', 'label': 'Theodore Dooley\\n11 gen', 'shape': 'box'}, {'color': '#d37f7f', 'level': 11.0, 'title': 'https://whitewolf.fandom.com/wiki/Colm_Olliver', 'font': {'color': 'white'}, 'id': 'Colm Olliver', 'label': 'Colm Olliver\\n11 gen', 'shape': 'box'}, {'color': '#d37f7f', 'level': 11.0, 'title': 'https://whitewolf.fandom.com/wiki/Parker', 'font': {'color': 'white'}, 'id': 'Parker', 'label': 'Parker\\n11 gen', 'shape': 'box'}, {'color': '#d37f7f', 'level': 11.0, 'title': 'https://whitewolf.fandom.com/wiki/Jenna_Cross', 'font': {'color': 'white'}, 'id': 'Jenna Cross', 'label': 'Jenna Cross\\n11 gen', 'shape': 'box'}, {'color': '#d37f7f', 'level': 11.0, 'title': 'https://whitewolf.fandom.com/wiki/Dre_(Brujah)', 'font': {'color': 'white'}, 'id': 'Dre (Brujah)', 'label': 'Dre (Brujah)\\n11 gen', 'shape': 'box'}, {'color': '#d37f7f', 'level': 11.0, 'title': 'https://whitewolf.fandom.com/wiki/Philip_Freeman', 'font': {'color': 'white'}, 'id': 'Philip Freeman', 'label': 'Philip Freeman\\n11 gen', 'shape': 'box'}, {'color': '#d37f7f', 'level': 11.0, 'title': 'https://whitewolf.fandom.com/wiki/Simona_Ferrari', 'font': {'color': 'white'}, 'id': 'Simona Ferrari', 'label': 'Simona Ferrari\\n11 gen', 'shape': 'box'}, {'color': '#d37f7f', 'level': 11.0, 'title': 'https://whitewolf.fandom.com/wiki/Hector_Juarez', 'font': {'color': 'white'}, 'id': 'Hector Juarez', 'label': 'Hector Juarez\\n11 gen', 'shape': 'box'}, {'color': '#d37f7f', 'level': 11.0, 'title': 'https://whitewolf.fandom.com/wiki/Tom_Weaver', 'font': {'color': 'white'}, 'id': 'Tom Weaver', 'label': 'Tom Weaver\\n11 gen', 'shape': 'box'}, {'color': '#d37f7f', 'level': 11.0, 'title': 'https://whitewolf.fandom.com/wiki/Donny_Sheridan', 'font': {'color': 'white'}, 'id': 'Donny Sheridan', 'label': 'Donny Sheridan\\n11 gen', 'shape': 'box'}, {'color': '#d37f7f', 'level': 11.0, 'title': 'https://whitewolf.fandom.com/wiki/Sharylin_Polopolis', 'font': {'color': 'white'}, 'id': 'Sharylin Polopolis', 'label': 'Sharylin Polopolis\\n11 gen', 'shape': 'box'}, {'color': '#d37f7f', 'level': 11.0, 'title': 'https://whitewolf.fandom.com/wiki/Louis_le_Monstre', 'font': {'color': 'white'}, 'id': 'Louis le Monstre', 'label': 'Louis le Monstre\\n11 gen', 'shape': 'box'}, {'color': '#d37f7f', 'level': 11.0, 'title': 'https://whitewolf.fandom.com/wiki/Lucille_(VTM)', 'font': {'color': 'white'}, 'id': 'Lucille (VTM)', 'label': 'Lucille (VTM)\\n11 gen', 'shape': 'box'}, {'color': '#d37f7f', 'level': 11.0, 'title': 'https://whitewolf.fandom.com/wiki/Pattermuster', 'font': {'color': 'white'}, 'id': 'Pattermuster', 'label': 'Pattermuster\\n11 gen', 'shape': 'box'}, {'color': '#da8c8c', 'level': 12.0, 'title': 'https://whitewolf.fandom.com/wiki/Anita_Wainwright', 'font': {'color': 'white'}, 'id': 'Anita Wainwright', 'label': 'Anita Wainwright\\n12 gen', 'shape': 'box'}, {'color': '#da8c8c', 'level': 12.0, 'title': 'https://whitewolf.fandom.com/wiki/Mama_Polari', 'font': {'color': 'white'}, 'id': 'Mama Polari', 'label': 'Mama Polari\\n12 gen', 'shape': 'box'}, {'color': '#da8c8c', 'level': 12.0, 'title': 'https://whitewolf.fandom.com/wiki/Rui_da_Costa', 'font': {'color': 'white'}, 'id': 'Rui da Costa', 'label': 'Rui da Costa\\n12 gen', 'shape': 'box'}, {'color': '#da8c8c', 'level': 12.0, 'title': 'https://whitewolf.fandom.com/wiki/Cal_(VTM)', 'font': {'color': 'white'}, 'id': 'Cal (VTM)', 'label': 'Cal (VTM)\\n12 gen', 'shape': 'box'}, {'color': '#da8c8c', 'level': 12.0, 'title': 'https://whitewolf.fandom.com/wiki/Belial_(VTM)', 'font': {'color': 'white'}, 'id': 'Belial (VTM)', 'label': 'Belial (VTM)\\n12 gen', 'shape': 'box'}, {'color': '#da8c8c', 'level': 12.0, 'title': 'https://whitewolf.fandom.com/wiki/Derek_Jacobson', 'font': {'color': 'white'}, 'id': 'Derek Jacobson', 'label': 'Derek Jacobson\\n12 gen', 'shape': 'box'}, {'color': '#da8c8c', 'level': 12.0, 'title': 'https://whitewolf.fandom.com/wiki/Gengis', 'font': {'color': 'white'}, 'id': 'Gengis', 'label': 'Gengis\\n12 gen', 'shape': 'box'}, {'color': '#da8c8c', 'level': 12.0, 'title': 'https://whitewolf.fandom.com/wiki/Carver', 'font': {'color': 'white'}, 'id': 'Carver', 'label': 'Carver\\n12 gen', 'shape': 'box'}, {'color': '#da8c8c', 'level': 12.0, 'title': 'https://whitewolf.fandom.com/wiki/Shawnda_Dorrit', 'font': {'color': 'white'}, 'id': 'Shawnda Dorrit', 'label': 'Shawnda Dorrit\\n12 gen', 'shape': 'box'}, {'color': '#da8c8c', 'level': 12.0, 'title': 'https://whitewolf.fandom.com/wiki/Jayne_Jonestown', 'font': {'color': 'white'}, 'id': 'Jayne Jonestown', 'label': 'Jayne Jonestown\\n12 gen', 'shape': 'box'}, {'color': '#e29999', 'level': 13.0, 'title': 'https://whitewolf.fandom.com/wiki/Laura_Goldman', 'font': {'color': 'white'}, 'id': 'Laura Goldman', 'label': 'Laura Goldman\\n13 gen', 'shape': 'box'}, {'color': '#e29999', 'level': 13.0, 'title': 'https://whitewolf.fandom.com/wiki/Travis_Fett', 'font': {'color': 'white'}, 'id': 'Travis Fett', 'label': 'Travis Fett\\n13 gen', 'shape': 'box'}, {'color': '#e29999', 'level': 13.0, 'title': 'https://whitewolf.fandom.com/wiki/Ariane', 'font': {'color': 'white'}, 'id': 'Ariane', 'label': 'Ariane\\n13 gen', 'shape': 'box'}, {'color': '#e29999', 'level': 13.0, 'title': 'https://whitewolf.fandom.com/wiki/Lianne_Miller', 'font': {'color': 'white'}, 'id': 'Lianne Miller', 'label': 'Lianne Miller\\n13 gen', 'shape': 'box'}, {'color': '#e29999', 'level': 13.0, 'title': 'https://whitewolf.fandom.com/wiki/Rayne', 'font': {'color': 'white'}, 'id': 'Rayne', 'label': 'Rayne\\n13 gen', 'shape': 'box'}, {'color': '#e29999', 'level': 13.0, 'title': 'https://whitewolf.fandom.com/wiki/Jennifer_MacKay', 'font': {'color': 'white'}, 'id': 'Jennifer MacKay', 'label': 'Jennifer MacKay\\n13 gen', 'shape': 'box'}, {'color': '#e29999', 'level': 13.0, 'title': 'https://whitewolf.fandom.com/wiki/Annabelle_Li', 'font': {'color': 'white'}, 'id': 'Annabelle Li', 'label': 'Annabelle Li\\n13 gen', 'shape': 'box'}, {'color': '#e29999', 'level': 13.0, 'title': 'https://whitewolf.fandom.com/wiki/Zak', 'font': {'color': 'white'}, 'id': 'Zak', 'label': 'Zak\\n13 gen', 'shape': 'box'}, {'color': '#BEBEBE', 'level': 5, 'id': 'Aerellius', 'label': 'Aerellius', 'shape': 'dot'}, {'color': '#BEBEBE', 'level': 11, 'id': 'Alexander Alexeyev', 'label': 'Alexander Alexeyev', 'shape': 'dot'}, {'color': '#BEBEBE', 'level': 6, 'id': 'Alypius', 'label': 'Alypius', 'shape': 'dot'}, {'color': '#BEBEBE', 'level': 10, 'id': 'Appolonius', 'label': 'Appolonius', 'shape': 'dot'}, {'color': '#BEBEBE', 'level': 7, 'id': 'Jan Arathi', 'label': 'Jan Arathi', 'shape': 'dot'}, {'color': '#BEBEBE', 'level': 7, 'id': 'Arngrim le Fier', 'label': 'Arngrim le Fier', 'shape': 'dot'}, {'color': '#BEBEBE', 'level': 8, 'id': 'Armin Brenner', 'label': 'Armin Brenner', 'shape': 'dot'}, {'color': '#BEBEBE', 'level': 7, 'id': 'Thomas Chartrand', 'label': 'Thomas Chartrand', 'shape': 'dot'}, {'color': '#BEBEBE', 'level': 7, 'id': 'Edmund Jacobie', 'label': 'Edmund Jacobie', 'shape': 'dot'}, {'color': '#BEBEBE', 'level': 5, 'id': 'Simon Crieff', 'label': 'Simon Crieff', 'shape': 'dot'}, {'color': '#BEBEBE', 'level': 6, 'id': 'Cyrus', 'label': 'Cyrus', 'shape': 'dot'}, {'color': '#BEBEBE', 'level': 5, 'id': 'Cælestius', 'label': 'Cælestius', 'shape': 'dot'}, {'color': '#BEBEBE', 'level': 6, 'id': 'Damsel', 'label': 'Damsel', 'shape': 'dot'}, {'color': '#BEBEBE', 'level': 6, 'id': 'Simon de Cosa', 'label': 'Simon de Cosa', 'shape': 'dot'}, {'color': '#BEBEBE', 'level': 8, 'id': 'Oksana Dimitrovna Domasheva', 'label': 'Oksana Dimitrovna Domasheva', 'shape': 'dot'}, {'color': '#BEBEBE', 'level': 8, 'id': 'Eileen', 'label': 'Eileen', 'shape': 'dot'}, {'color': '#BEBEBE', 'level': 7, 'id': 'Eddie Fiori', 'label': 'Eddie Fiori', 'shape': 'dot'}, {'color': '#BEBEBE', 'level': 7, 'id': 'Gwendolyn', 'label': 'Gwendolyn', 'shape': 'dot'}, {'color': '#BEBEBE', 'level': 5, 'id': 'Heracleitus', 'label': 'Heracleitus', 'shape': 'dot'}, {'color': '#BEBEBE', 'level': 10, 'id': 'Elizabeth Horsmanden', 'label': 'Elizabeth Horsmanden', 'shape': 'dot'}, {'color': '#BEBEBE', 'level': 8, 'id': 'Gudbjörn Hrafnsson', 'label': 'Gudbjörn Hrafnsson', 'shape': 'dot'}, {'color': '#BEBEBE', 'level': 8, 'id': 'Ice Box', 'label': 'Ice Box', 'shape': 'dot'}, {'color': '#BEBEBE', 'level': 7, 'id': 'Jimmy the Action Zero', 'label': 'Jimmy the Action Zero', 'shape': 'dot'}, {'color': '#BEBEBE', 'level': 7, 'id': 'Julius (Brujah)', 'label': 'Julius (Brujah)', 'shape': 'dot'}, {'color': '#BEBEBE', 'level': 6, 'id': 'Tayshawn Kearns', 'label': 'Tayshawn Kearns', 'shape': 'dot'}, {'color': '#BEBEBE', 'level': 6, 'id': 'Marcus Kiley', 'label': 'Marcus Kiley', 'shape': 'dot'}, {'color': '#BEBEBE', 'level': 6, 'id': 'Karoliina Koski', 'label': 'Karoliina Koski', 'shape': 'dot'}, {'color': '#BEBEBE', 'level': 9, 'id': 'Friedrich Kraus', 'label': 'Friedrich Kraus', 'shape': 'dot'}, {'color': '#BEBEBE', 'level': 6, 'id': 'Simeon Ladock', 'label': 'Simeon Ladock', 'shape': 'dot'}, {'color': '#BEBEBE', 'level': 6, 'id': 'Lorenzo Prestia', 'label': 'Lorenzo Prestia', 'shape': 'dot'}, {'color': '#BEBEBE', 'level': 7, 'id': 'Mackelroy', 'label': 'Mackelroy', 'shape': 'dot'}, {'color': '#BEBEBE', 'level': 7, 'id': 'Claudette Malfet', 'label': 'Claudette Malfet', 'shape': 'dot'}, {'color': '#BEBEBE', 'level': 9, 'id': 'Mazz (VTM)', 'label': 'Mazz (VTM)', 'shape': 'dot'}, {'color': '#BEBEBE', 'level': 6, 'id': 'Alexander Meuser', 'label': 'Alexander Meuser', 'shape': 'dot'}, {'color': '#BEBEBE', 'level': 7, 'id': 'Michel Monvignier', 'label': 'Michel Monvignier', 'shape': 'dot'}, {'color': '#BEBEBE', 'level': 10, 'id': 'Zayne Morales', 'label': 'Zayne Morales', 'shape': 'dot'}, {'color': '#BEBEBE', 'level': 11, 'id': 'Morrigan (Brujah)', 'label': 'Morrigan (Brujah)', 'shape': 'dot'}, {'color': '#BEBEBE', 'level': 7, 'id': 'Benny Muldoon', 'label': 'Benny Muldoon', 'shape': 'dot'}, {'color': '#BEBEBE', 'level': 5, 'id': 'Anna Petrova', 'label': 'Anna Petrova', 'shape': 'dot'}, {'color': '#BEBEBE', 'level': 10, 'id': 'Remi', 'label': 'Remi', 'shape': 'dot'}, {'color': '#BEBEBE', 'level': 8, 'id': 'Richter', 'label': 'Richter', 'shape': 'dot'}, {'color': '#BEBEBE', 'level': 9, 'id': 'George Robinson', 'label': 'George Robinson', 'shape': 'dot'}, {'color': '#BEBEBE', 'level': 8, 'id': 'Rodrigo (Brujah)', 'label': 'Rodrigo (Brujah)', 'shape': 'dot'}, {'color': '#BEBEBE', 'level': 6, 'id': 'Sanderburg', 'label': 'Sanderburg', 'shape': 'dot'}, {'color': '#BEBEBE', 'level': 3, 'id': 'Sasha (KTE)', 'label': 'Sasha (KTE)', 'shape': 'dot'}, {'color': '#BEBEBE', 'level': 8, 'id': 'Mia Sorrento', 'label': 'Mia Sorrento', 'shape': 'dot'}, {'color': '#BEBEBE', 'level': 8, 'id': 'Agata Starek', 'label': 'Agata Starek', 'shape': 'dot'}, {'color': '#BEBEBE', 'level': 8, 'id': 'Karen Suadela', 'label': 'Karen Suadela', 'shape': 'dot'}, {'color': '#BEBEBE', 'level': 9, 'id': 'Leslie Taylor', 'label': 'Leslie Taylor', 'shape': 'dot'}, {'color': '#BEBEBE', 'level': 6, 'id': 'Thelonious', 'label': 'Thelonious', 'shape': 'dot'}, {'color': '#BEBEBE', 'level': 10, 'id': 'Torque', 'label': 'Torque', 'shape': 'dot'}, {'color': '#BEBEBE', 'level': 7, 'id': 'Torrance Urich', 'label': 'Torrance Urich', 'shape': 'dot'}, {'color': '#BEBEBE', 'level': 8, 'id': 'Velvet (VTM)', 'label': 'Velvet (VTM)', 'shape': 'dot'}, {'color': '#BEBEBE', 'level': 5, 'id': 'Vick', 'label': 'Vick', 'shape': 'dot'}, {'color': '#BEBEBE', 'level': 10, 'id': 'Manfred von Schorr', 'label': 'Manfred von Schorr', 'shape': 'dot'}, {'color': '#BEBEBE', 'level': 5, 'id': 'Robert Ward', 'label': 'Robert Ward', 'shape': 'dot'}, {'color': '#BEBEBE', 'level': 8, 'id': 'Yzebel', 'label': 'Yzebel', 'shape': 'dot'}, {'color': '#BEBEBE', 'level': 4, 'id': 'Zamra', 'label': 'Zamra', 'shape': 'dot'}]\n"
     ]
    }
   ],
   "source": [
    "print(net.nodes)"
   ]
  },
  {
   "cell_type": "code",
   "execution_count": 14,
   "id": "aaf0ae83",
   "metadata": {},
   "outputs": [],
   "source": [
    "def inject_js(html_path, original_pattern, new_pattern):    \n",
    "    with open(html_path, 'r', encoding='utf-8') as file: \n",
    "        source_code = file.read()\n",
    "        source_code_updated = source_code.replace(original_pattern, new_pattern)\n",
    "    \n",
    "    with open(html_path, 'w', encoding='utf-8') as f:\n",
    "        f.write(source_code_updated)"
   ]
  },
  {
   "cell_type": "code",
   "execution_count": null,
   "id": "abb5fc8c",
   "metadata": {},
   "outputs": [],
   "source": [
    "\"\"\" \n",
    "let link = node.title\n",
    "                                // Send POST request\n",
    "                                fetch(window.location.href, {\n",
    "                                method: 'POST',\n",
    "                                headers: {'Content-Type': 'application/json'},\n",
    "                                body: JSON.stringify({link: link})\n",
    "                                })\n",
    "                                .then(response => {\n",
    "                                if (!response.ok) throw new Error('Network response was not ok');\n",
    "                                return response.text();\n",
    "                                })\n",
    "                                .then(data => {\n",
    "                                console.log('POST succeeded:', data);\n",
    "                                })\n",
    "                                .catch(error => {\n",
    "                                console.error('POST failed:', error);\n",
    "                                });\n",
    "  \"\"\""
   ]
  },
  {
   "cell_type": "code",
   "execution_count": 37,
   "id": "dbf613aa",
   "metadata": {},
   "outputs": [
    {
     "name": "stdout",
     "output_type": "stream",
     "text": [
      "[]\n"
     ]
    },
    {
     "name": "stderr",
     "output_type": "stream",
     "text": [
      "Error: Failed to open Wayland display, fallback to X11. WAYLAND_DISPLAY='wayland-0' DISPLAY=':0'\n"
     ]
    }
   ],
   "source": [
    "import networkx as nx\n",
    "from pyvis.network import Network\n",
    "\n",
    "G = nx.Graph()\n",
    "\n",
    "for index, vamp in brujah.iterrows():\n",
    "\n",
    "    if not np.isnan(vamp[\"Generation\"]): \n",
    "        level = vamp[\"Generation\"]\n",
    "        G.add_node(node_for_adding=vamp[\"Name\"],\n",
    "                    label=vamp[\"Name\"] + \"\\n\" + str(int(level)) + \" gen\",\n",
    "                    level = level, \n",
    "                    color=red_gradient[level],\n",
    "                    shape = \"box\",\n",
    "                    title = vamp[\"Link\"], #title=f\"<a href='{vamp[\"Link\"]}' target='_blank'>{vamp[\"Name\"]} \\n {int(level)} gen</a>\",\n",
    "                    font = {\"color\":\"white\"},\n",
    "                    Generation = level,\n",
    "                    Name = vamp[\"Name\"])\n",
    "\n",
    "\n",
    "for index, vamp in brujah.iterrows():\n",
    "    if np.isnan(vamp[\"Generation\"]):\n",
    "        level = np.random.binomial(n = 15, p = 0.5)\n",
    "        G.add_node(node_for_adding=vamp[\"Name\"],\n",
    "                     level = level, \n",
    "                     color=\"#FFFFFF\",\n",
    "                     font = {\"color\":\"black\"},\n",
    "                     title = vamp[\"Link\"],\n",
    "                     Name = vamp[\"Name\"],\n",
    "                     shape = \"box\")\n",
    "        \n",
    "#for edge in brujah_edges:\n",
    "#    G.add_edge(*edge)#, Childer_Of=edge[0], Sire_Of=edge[1])\n",
    "\n",
    "#pos = nx.planar_layout(G)\n",
    "pos = nx.arf_layout(G)\n",
    "\n",
    "\n",
    "#for node, (x, y) in pos.items():\n",
    "   # G.nodes[node]['x'] = float(x)   \n",
    "   # G.nodes[node]['y'] = float(y)\n",
    "\n",
    "print(G.edges)\n",
    "\n",
    "\n",
    "net_temp = Network(height=\"800px\", directed=True, bgcolor=background_color,  filter_menu=True, cdn_resources='remote')\n",
    "net_temp.from_nx(G)\n",
    "\n",
    "for edge in brujah_edges:\n",
    "    net_temp.add_edge(edge[0], edge[1], Childer_Of=edge[0], Sire_Of=edge[1])\n",
    "\n",
    "\n",
    "\n",
    "#print(net_temp.edges)\n",
    "\n",
    "net_temp.save_graph(\"graphs/brujah.html\")"
   ]
  },
  {
   "cell_type": "code",
   "execution_count": null,
   "id": "18edf7be",
   "metadata": {},
   "outputs": [],
   "source": [
    " # set the background of the page to match the graph\n",
    "inject_js(\"graphs/brujah.html\", \n",
    "          original_pattern = \"<html>\\n \", \n",
    "          new_pattern = f'<html>\\n <body style=\"background-color:{background_color};\">\\n') \n",
    "\n",
    "# update the border to blend in with the background\n",
    "inject_js(\"graphs/brujah.html\", \n",
    "          original_pattern='<style type=\"text/css\">', \n",
    "          new_pattern=f'<style type=\"text/css\">\\n\\t\\t\\t#mycard {{\\n \\t\\t\\t\\tbackground-color: {background_color};\\n\\t\\t\\t\\n  border: 1px solid {background_color};\\n}}\\n #loadingBar {{ display: none !important;}}\\n')\n",
    "\n",
    "inject_js(\"graphs/brujah.html\", \n",
    "          original_pattern='<div class=\"card\" style=\"width: 100%\">', \n",
    "          new_pattern='<div id=\"mycard\" class=\"card\" style=\"width: 100%\">')\n",
    "\n",
    "inject_js(\"graphs/brujah.html\", \n",
    "          original_pattern='<div class=\"card\" style=\"width: 100%\">', \n",
    "          new_pattern='<div id=\"mycard\" class=\"card\" style=\"width: 100%\">')\n",
    "\n",
    "inject_js(\"graphs/brujah.html\", \n",
    "          original_pattern=\"border: 1px solid lightgray;\", \n",
    "          new_pattern=f\"border: 1px solid {background_color};\")\n",
    "\n",
    "# add double-click to the nodes, open a new page \n",
    "\n",
    "inject_js(\"graphs/brujah.html\",\n",
    "          original_pattern=\"network = new vis.Network(container, data, options);\",\n",
    "          new_pattern=\"\"\"network = new vis.Network(container, data, options);\n",
    "                        \\n network.on(\"doubleClick\", function(params) {\n",
    "                        if (params.nodes.length > 0) {\n",
    "                            var nodeId = params.nodes[0];\n",
    "                            var node = nodes.get(nodeId);\n",
    "                            console.log(node)\n",
    "                            if (node && node.title) {\n",
    "                                //window.open(node.title, \"_blank\");\n",
    "\n",
    "                                //console.log(window.parent.parent)\n",
    "\n",
    "                                //var outboundData = Object.assign({\n",
    "                                //isStreamlitMessage: true,\n",
    "                                //type: \"link_wrong\",\n",
    "                                //}, node.title)\n",
    "\n",
    "\n",
    "                                window.parent.parent.postMessage({ type: 'LINK', payload: node.title }, \"*\")\n",
    "                            }\n",
    "                        }   \n",
    "                    });\\n\"\"\")\n",
    "\n",
    "# move the starting position of the graph to the top node\n",
    "\n",
    "#inject_js(\"graphs/brujah.html\", \n",
    "#          original_pattern='network.once(\"stabilizationIterationsDone\", function() {', \n",
    "#          new_pattern= \"\"\"network.once(\"stabilizationIterationsDone\", function() {\\n\n",
    "#                            network.moveTo({\n",
    "#                                position: {x: 0, y: 0},\n",
    "#                                scale: 0.8\n",
    "#                            });\\n\"\"\")\n",
    "\n",
    "# restrict filter options to only certain attributes\n",
    "\n",
    "inject_js(\"graphs/brujah.html\",\n",
    "          original_pattern=\"propControl.addOption({id: eachProp, title: eachProp})\",\n",
    "          new_pattern=\"if (['Generation', 'Name', 'Sire_Of', 'Childer_Of'].includes(eachProp)){\\npropControl.addOption({id: eachProp, title: eachProp})\\n}\\n\")\n",
    "\n",
    "\n"
   ]
  }
 ],
 "metadata": {
  "kernelspec": {
   "display_name": "vtm",
   "language": "python",
   "name": "python3"
  },
  "language_info": {
   "codemirror_mode": {
    "name": "ipython",
    "version": 3
   },
   "file_extension": ".py",
   "mimetype": "text/x-python",
   "name": "python",
   "nbconvert_exporter": "python",
   "pygments_lexer": "ipython3",
   "version": "3.13.2"
  }
 },
 "nbformat": 4,
 "nbformat_minor": 5
}
